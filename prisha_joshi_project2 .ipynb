{
 "cells": [
  {
   "cell_type": "markdown",
   "id": "be02a957-7133-4d02-818e-fedeb3cecb05",
   "metadata": {},
   "source": [
    "# Project 2 -- [Prisha [Joshi]"
   ]
  },
  {
   "cell_type": "markdown",
   "id": "a1228853-dd19-4ab2-89e0-0394d7d72de3",
   "metadata": {},
   "source": [
    "**TA Help:** John Smith, Alice Jones\n",
    "\n",
    "- Help with figuring out how to write a function.\n",
    "    \n",
    "**Collaboration:** Friend1, Friend2\n",
    "    \n",
    "- Helped figuring out how to load the dataset.\n",
    "- Helped debug error with my plot."
   ]
  },
  {
   "cell_type": "markdown",
   "id": "6180e742-8e39-4698-98ff-5b00c8cf8ea0",
   "metadata": {},
   "source": [
    "## Question 1"
   ]
  },
  {
   "cell_type": "code",
   "execution_count": 24,
   "id": "49445606-d363-41b4-b479-e319a9a84c01",
   "metadata": {},
   "outputs": [
    {
     "data": {
      "text/plain": [
       "\n",
       " 1896  1900  1904  1906  1908  1912  1920  1924  1928  1932  1936  1948  1952 \n",
       "  380  1936  1301  1733  3101  4040  4292  5693  5574  3321  7401  7480  9358 \n",
       " 1956  1960  1964  1968  1972  1976  1980  1984  1988  1992  1994  1996  1998 \n",
       " 6434  9235  9480 10479 11959 10502  8937 11588 14676 16413  3160 13780  3605 \n",
       " 2000  2002  2004  2006  2008  2010  2012  2014  2016 \n",
       "13821  4109 13443  4382 13602  4402 12920  4891 13688 "
      ]
     },
     "metadata": {},
     "output_type": "display_data"
    },
    {
     "data": {
      "image/png": "[encoded data removed]",
      "text/plain": [
       "plot without title"
      ]
     },
     "metadata": {
      "image/png": {
       "height": 420,
       "width": 420
      }
     },
     "output_type": "display_data"
    }
   ],
   "source": [
    "# code here\n",
    "myDF <- read.csv(\"/anvil/projects/tdm/data/olympics/athlete_events.csv\")\n",
    "\n",
    "table(myDF$Year)\n",
    "plot(table(myDF$Year))"
   ]
  },
  {
   "cell_type": "markdown",
   "id": "b456e57c-4a12-464b-999a-ef2df5af80c1",
   "metadata": {},
   "source": [
    "as seen above , the number of atheletes does increase over time from 1896 with the max reaching around 1994. the reason being over time , the awareness probably increases with more engagement from various countires and even more sports.  yes we do see a halt in the middle during the world wars. yes the two year rotation is visible from the 1990's.  "
   ]
  },
  {
   "cell_type": "markdown",
   "id": "fc601975-35ed-4680-a4e1-0273ee3cc047",
   "metadata": {},
   "source": [
    "## Question 2"
   ]
  },
  {
   "cell_type": "code",
   "execution_count": 10,
   "id": "a16336a1-1ef0-41e8-bc7c-49387db27497",
   "metadata": {},
   "outputs": [
    {
     "data": {
      "text/plain": [
       "\n",
       "  AFG   AHO   ALB   ALG   AND   ANG   ANT   ANZ   ARG   ARM   ARU   ASA   AUS \n",
       "  126    79    70   551   169   267   133    86  3297   221    42    37  7638 \n",
       "  AUT   AZE   BAH   BAN   BAR   BDI   BEL   BEN   BER   BHU   BIH   BIZ   BLR \n",
       " 5141   283   374    55   219    39  3857    71   212    36   134    76  1787 \n",
       "  BOH   BOL   BOT   BRA   BRN   BRU   BUL   BUR   CAF   CAM   CAN   CAY   CGO \n",
       "  153   152    90  3848   126    10  3530    44    67    63  9733    83   105 \n",
       "  CHA   CHI   CHN   CIV   CMR   COD   COK   COL   COM   CPV   CRC   CRO   CRT \n",
       "   41   925  5141   193   312    93    40  1069    19    18   264   876    11 \n",
       "  CUB   CYP   CZE   DEN   DJI   DMA   DOM   ECU   EGY   ERI   ESA   ESP   EST \n",
       " 2479   225  1874  3570    38    19   277   277  1622    43   218  5313   876 \n",
       "  ETH   EUN   FIJ   FIN   FRA   FRG   FSM   GAB   GAM   GBR   GBS   GDR   GEO \n",
       "  378   864   232  5467 12758  3315    26    63    56 12256    21  2645   286 \n",
       "  GEQ   GER   GHA   GRE   GRN   GUA   GUI   GUM   GUY   HAI   HKG   HON   HUN \n",
       "   40  9830   359  3181    54   425    73   112   102   106   685   189  6607 \n",
       "  INA   IND   IOA   IRI   IRL   IRQ   ISL   ISR   ISV   ITA   IVB   JAM   JOR \n",
       "  412  1408    94   789  1325   232   627   665   294 10715    45   848    80 \n",
       "  JPN   KAZ   KEN   KGZ   KIR   KOR   KOS   KSA   KUW   LAO   LAT   LBA   LBR \n",
       " 8444  1429   772   227    11  4464     8   230   284    54   951    84    74 \n",
       "  LCA   LES   LIB   LIE   LTU   LUX   MAD   MAL   MAR   MAS   MAW   MDA   MDV \n",
       "   28    66   329   369   654   996   119    45   682   530    87   234    49 \n",
       "  MEX   MGL   MHL   MKD   MLI   MLT   MNE   MON   MOZ   MRI   MTN   MYA   NAM \n",
       " 2880   550    14    84    92   118    94   197    78   144    29   111    77 \n",
       "  NBO   NCA   NED   NEP   NFL   NGR   NIG   NOR   NRU   NZL   OMA   PAK   PAN \n",
       "    2   129  5839    94     1   882    47  4960    13  2342    66   562   139 \n",
       "  PAR   PER   PHI   PLE   PLW   PNG   POL   POR   PRK   PUR   QAT   RHO   ROT \n",
       "  135   532   694    21    25   108  6207  1522   807   927   192    12    12 \n",
       "  ROU   RSA   RUS   RWA   SAA   SAM   SCG   SEN   SEY   SGP   SKN   SLE   SLO \n",
       " 4405  1711  5143    56    93    63   321   393   111   349    42   114  1111 \n",
       "  SMR   SOL   SOM   SRB   SRI   SSD   STP   SUD   SUI   SUR   SVK   SWE   SWZ \n",
       "  181    27    32   392   146     3    15   107  6150    69  1055  8339    67 \n",
       "  SYR   TAN   TCH   TGA   THA   TJK   TKM   TLS   TOG   TPE   TTO   TUN   TUR \n",
       "  156   161  4404    46   747    70    54     9    59  1097   375   561  1356 \n",
       "  TUV   UAE   UAR   UGA   UKR   UNK   URS   URU   USA   UZB   VAN   VEN   VIE \n",
       "    7   144   123   260  2559     2  5685   576 18853   495    35   925   154 \n",
       "  VIN   VNM   WIF   YAR   YEM   YMD   YUG   ZAM   ZIM \n",
       "   42    62    20    11    32     5  2583   183   311 "
      ]
     },
     "metadata": {},
     "output_type": "display_data"
    },
    {
     "data": {
      "text/plain": [
       "\n",
       "  NOR   AUT   CHN   RUS   ESP   FIN   URS   NED   SUI   POL   HUN   AUS   SWE \n",
       " 4960  5141  5141  5143  5313  5467  5685  5839  6150  6207  6607  7638  8339 \n",
       "  JPN   CAN   GER   ITA   GBR   FRA   USA \n",
       " 8444  9733  9830 10715 12256 12758 18853 "
      ]
     },
     "metadata": {},
     "output_type": "display_data"
    }
   ],
   "source": [
    "# code here\n",
    "table(myDF$NOC)\n",
    "tail(sort(table(myDF$NOC)),n =20 )\n"
   ]
  },
  {
   "cell_type": "code",
   "execution_count": 12,
   "id": "445e7c22-bba7-4f3f-aaa0-394e58b12d32",
   "metadata": {},
   "outputs": [
    {
     "data": {
      "text/plain": [
       "\n",
       "Jean Lucien Nicolas Jacoby                Takashi Ono \n",
       "                        32                         33 \n",
       "       Ioannis Theofilakis      Joseph \"Josy\" Stoffel \n",
       "                        36                         38 \n",
       "  Heikki Ilmari Savolainen       Robert Tait McKenzie \n",
       "                        39                         58 "
      ]
     },
     "metadata": {},
     "output_type": "display_data"
    }
   ],
   "source": [
    "Name <- table(myDF$Name)\n",
    "tail(sort(Name))\n"
   ]
  },
  {
   "cell_type": "markdown",
   "id": "14dc22d4-ddc3-41cc-a91a-cb0025bc0c80",
   "metadata": {},
   "source": [
    "The usa comittee occurs the most in the NOC column with 18853 as their highest values. Robert Tait Mckenzie appears the most amount of times with the total value being 58. "
   ]
  },
  {
   "cell_type": "markdown",
   "id": "8e586edd-ff26-4ce2-8f6b-2424b26f2929",
   "metadata": {},
   "source": [
    "## Question 3"
   ]
  },
  {
   "cell_type": "code",
   "execution_count": 21,
   "id": "bbe0f40d-9655-4653-9ca8-886bdb61cb91",
   "metadata": {},
   "outputs": [
    {
     "data": {
      "text/html": [
       "3424"
      ],
      "text/latex": [
       "3424"
      ],
      "text/markdown": [
       "3424"
      ],
      "text/plain": [
       "[1] 3424"
      ]
     },
     "metadata": {},
     "output_type": "display_data"
    },
    {
     "data": {
      "text/html": [
       "<strong>Denmark:</strong> 3424"
      ],
      "text/latex": [
       "\\textbf{Denmark:} 3424"
      ],
      "text/markdown": [
       "**Denmark:** 3424"
      ],
      "text/plain": [
       "Denmark \n",
       "   3424 "
      ]
     },
     "metadata": {},
     "output_type": "display_data"
    },
    {
     "data": {
      "text/html": [
       "3496"
      ],
      "text/latex": [
       "3496"
      ],
      "text/markdown": [
       "3496"
      ],
      "text/plain": [
       "[1] 3496"
      ]
     },
     "metadata": {},
     "output_type": "display_data"
    },
    {
     "data": {
      "text/plain": [
       "\n",
       "        Denmark-1         Denmark-2         Denmark-3         Denmark-4 \n",
       "               30                30                 2                 2 \n",
       "   Denmark/Sweden Miss Denmark 1964 \n",
       "                6                 2 "
      ]
     },
     "metadata": {},
     "output_type": "display_data"
    }
   ],
   "source": [
    "# code here\n",
    "sum(myDF$Team == \"Denmark\")\n",
    "table(myDF$Team)[\"Denmark\"]\n",
    "length(grep(\"Denmark\", myDF$Team))\n",
    "table(myDF$Team[ grepl(\"Denmark\",myDF$Team) & (myDF$Team != \"Denmark\") ])"
   ]
  },
  {
   "cell_type": "markdown",
   "id": "47c6229f-35f7-400c-8366-c442baa5cf47",
   "metadata": {},
   "source": [
    "the number of rows corresponding exactly to denmark are 64. the number of rows corresponding to denmark as part of a team name are 8 . their names are denmark/sweden and miss denmark 1964. "
   ]
  },
  {
   "cell_type": "markdown",
   "id": "da22f29c-d245-4d2b-9fc1-ca14cb6087d9",
   "metadata": {},
   "source": [
    "## Question 4"
   ]
  },
  {
   "cell_type": "code",
   "execution_count": 16,
   "id": "8cffc767-d1c8-4d64-b7dc-f0d2ee8a80d1",
   "metadata": {},
   "outputs": [
    {
     "data": {
      "text/plain": [
       "\n",
       "         FL    IL    NY    TX    CA \n",
       "12654 15576 15895 25669 34862 37069 "
      ]
     },
     "metadata": {},
     "output_type": "display_data"
    },
    {
     "data": {
      "text/plain": [
       "\n",
       "                            LUCAS, HARRY JR \n",
       "                                         46 \n",
       "                              WILLIAMS, J D \n",
       "                                         64 \n",
       "  DEMOCRATIC CONGRESSIONAL DINNER COMMITTEE \n",
       "                                         65 \n",
       "                               REPP, WARD W \n",
       "                                         89 \n",
       " AMERICAN DENTAL POLITICAL ACTION COMMITTEE \n",
       "                                         96 \n",
       "AMERICAN MEDICAL POLITICAL ACTION COMMITTEE \n",
       "                                        769 "
      ]
     },
     "metadata": {},
     "output_type": "display_data"
    }
   ],
   "source": [
    "# code here\n",
    "library(data.table)\n",
    "myDF <- fread(\"/anvil/projects/tdm/data/election/itcont1980.txt\", quote=\"\")\n",
    "names(myDF) <- c(\"CMTE_ID\", \"AMNDT_IND\", \"RPT_TP\", \"TRANSACTION_PGI\", \"IMAGE_NUM\", \"TRANSACTION_TP\", \"ENTITY_TP\", \"NAME\", \"CITY\", \"STATE\", \"ZIP_CODE\", \"EMPLOYER\", \"OCCUPATION\", \"TRANSACTION_DT\", \"TRANSACTION_AMT\", \"OTHER_ID\", \"TRAN_ID\", \"FILE_NUM\", \"MEMO_CD\", \"MEMO_TEXT\", \"SUB_ID\")\n",
    "tail(sort(table(myDF$STATE)))\n",
    "tail(sort(table(myDF$NAME)))\n"
   ]
  },
  {
   "cell_type": "markdown",
   "id": "0d552245-b4d6-474a-9cc9-fa7b8e674d55",
   "metadata": {},
   "source": [
    "the output shows that california has the highest number of values of 37069. the value that occurs in the name column the most is american medical political action comittee with the value being 769. "
   ]
  },
  {
   "cell_type": "markdown",
   "id": "88c9cdac-3e92-498f-83fa-e089bfc44ac8",
   "metadata": {},
   "source": [
    "## Question 5"
   ]
  },
  {
   "cell_type": "code",
   "execution_count": 15,
   "id": "d370d7c9-06db-42b9-b75f-240481a5c491",
   "metadata": {},
   "outputs": [
    {
     "data": {
      "text/plain": [
       "\n",
       "LOS ANGELES CA  WASHINGTON DC      DALLAS TX     HOUSTON TX                \n",
       "          5866           5890           6438          10146          11582 \n",
       "   NEW YORK NY \n",
       "         13862 "
      ]
     },
     "metadata": {},
     "output_type": "display_data"
    }
   ],
   "source": [
    "# code here\n",
    "tail(sort(table(paste(myDF$CITY, myDF$STATE))))\n"
   ]
  },
  {
   "cell_type": "markdown",
   "id": "9fbf00fb-2418-460f-ae94-2a32b0c28952",
   "metadata": {},
   "source": [
    "the top five city state locations where the most donations were done are los angeles(ca) , washinton dc , dallaz (tx) , houston (tx) , new york (ny)"
   ]
  },
  {
   "cell_type": "markdown",
   "id": "f76442d6-d02e-4f26-b9d6-c3183e1d6929",
   "metadata": {},
   "source": [
    "## Pledge\n",
    "\n",
    "By submitting this work I hereby pledge that this is my own, personal work. I've acknowledged in the designated place at the top of this file all sources that I used to complete said work, including but not limited to: online resources, books, and electronic communications. I've noted all collaboration with fellow students and/or TA's. I did not copy or plagiarize another's work.\n",
    "\n",
    "> As a Boilermaker pursuing academic excellence, I pledge to be honest and true in all that I do. Accountable together – We are Purdue."
   ]
  }
 ],
 "metadata": {
  "kernelspec": {
   "display_name": "seminar-r",
   "language": "R",
   "name": "seminar-r"
  },
  "language_info": {
   "codemirror_mode": "r",
   "file_extension": ".r",
   "mimetype": "text/x-r-source",
   "name": "R",
   "pygments_lexer": "r",
   "version": "4.3.1"
  }
 },
 "nbformat": 4,
 "nbformat_minor": 5
}
