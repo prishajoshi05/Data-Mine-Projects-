{
 "cells": [
  {
   "cell_type": "markdown",
   "id": "be02a957-7133-4d02-818e-fedeb3cecb05",
   "metadata": {},
   "source": [
    "# Project X -- [First Name] [Last Name]"
   ]
  },
  {
   "cell_type": "markdown",
   "id": "a1228853-dd19-4ab2-89e0-0394d7d72de3",
   "metadata": {},
   "source": [
    "**TA Help:** John Smith, Alice Jones\n",
    "\n",
    "- Help with figuring out how to write a function.\n",
    "    \n",
    "**Collaboration:** Friend1, Friend2\n",
    "    \n",
    "- Helped figuring out how to load the dataset.\n",
    "- Helped debug error with my plot."
   ]
  },
  {
   "cell_type": "markdown",
   "id": "6180e742-8e39-4698-98ff-5b00c8cf8ea0",
   "metadata": {},
   "source": [
    "## Question 1"
   ]
  },
  {
   "cell_type": "code",
   "execution_count": null,
   "id": "49445606-d363-41b4-b479-e319a9a84c01",
   "metadata": {},
   "outputs": [],
   "source": []
  },
  {
   "cell_type": "markdown",
   "id": "b456e57c-4a12-464b-999a-ef2df5af80c1",
   "metadata": {},
   "source": [
    "Participating in The Data Mine has been an invaluable experience that significantly shaped my academic and professional journey. The weekly R projects provided hands-on opportunities to explore diverse datasets and develop practical solutions, enhancing my technical skills and confidence in data analysis.\n",
    "\n",
    "The program’s emphasis on collaboration and critical thinking fostered an analytical mindset that I now apply to both research and professional work. I highly recommend The Data Mine to students seeking real-world applications of data science and to industry colleagues looking for innovative, data-driven perspectives.\n",
    "\n",
    "Yes, it is OK to publish my comments in the forthcoming Data Mine book in 2025."
   ]
  },
  {
   "cell_type": "markdown",
   "id": "fc601975-35ed-4680-a4e1-0273ee3cc047",
   "metadata": {},
   "source": [
    "## Question 2"
   ]
  },
  {
   "cell_type": "code",
   "execution_count": null,
   "id": "a16336a1-1ef0-41e8-bc7c-49387db27497",
   "metadata": {},
   "outputs": [],
   "source": []
  },
  {
   "cell_type": "markdown",
   "id": "14dc22d4-ddc3-41cc-a91a-cb0025bc0c80",
   "metadata": {},
   "source": [
    "\n",
    "\n",
    "Working with the flights dataset was one of the most enjoyable experiences during The Data Mine. The dataset, which focused on flight delays, provided a practical and relatable context, as delays are a common topic of interest in travel and logistics. Its rich features, such as departure and arrival times, delay durations, airlines, and states of origin, offered diverse opportunities for analysis and visualization.\n",
    "\n",
    "One of the questions I enjoyed was identifying the flight with the most significant delay. Using the `subset()` function, I filtered the dataset to focus on rows that met specific conditions. This allowed me to quickly isolate extreme delays and examine their characteristics. Another engaging task was calculating the average delay for flights originating from each state. For this, I used the `tapply()` function to group delay durations by state and compute the mean for each group. This method was both straightforward and powerful for summarizing the data. The tapply function was my favourite because it was easy , helpful and fun to perform!\n"
   ]
  },
  {
   "cell_type": "markdown",
   "id": "8e586edd-ff26-4ce2-8f6b-2424b26f2929",
   "metadata": {},
   "source": [
    "## Question 3"
   ]
  },
  {
   "cell_type": "code",
   "execution_count": null,
   "id": "bbe0f40d-9655-4653-9ca8-886bdb61cb91",
   "metadata": {},
   "outputs": [],
   "source": [
    "# code here"
   ]
  },
  {
   "cell_type": "markdown",
   "id": "47c6229f-35f7-400c-8366-c442baa5cf47",
   "metadata": {},
   "source": [
    "For most of questions that we had to code for , we were usually provided with a hint or what the answer should look like which made it very easy for me to follow through and not worry about whether if my code is right or not. If we were'nt provided with that , I'd mostly look at the answer logically , for example trying to find the average delay time it would be more logical to get an answer like 35.46 rather than 7658 hours. \n",
    "I'd explore data by looking the head or the tail to find the column headings and what does the data have.\n",
    "Not really , I liked the ways that we used this semester. "
   ]
  },
  {
   "cell_type": "markdown",
   "id": "da22f29c-d245-4d2b-9fc1-ca14cb6087d9",
   "metadata": {},
   "source": [
    "## Question 4"
   ]
  },
  {
   "cell_type": "code",
   "execution_count": null,
   "id": "8cffc767-d1c8-4d64-b7dc-f0d2ee8a80d1",
   "metadata": {},
   "outputs": [],
   "source": [
    "# code here"
   ]
  },
  {
   "cell_type": "markdown",
   "id": "0d552245-b4d6-474a-9cc9-fa7b8e674d55",
   "metadata": {},
   "source": [
    "I found project 11 the most confusing in the whole semester. Project 11 questions like 1 and 3 where we had to make our functions were extremely difficult for me to get right. The videos which we would get in earlier projects would have been very helpful for questions like these. By the end we weren't given these videos and thats understandable but we should be given these videos for difficult questions like these and not for the first few projects because they are mostly easy. "
   ]
  },
  {
   "cell_type": "markdown",
   "id": "88c9cdac-3e92-498f-83fa-e089bfc44ac8",
   "metadata": {},
   "source": [
    "## Question 5"
   ]
  },
  {
   "cell_type": "code",
   "execution_count": null,
   "id": "d370d7c9-06db-42b9-b75f-240481a5c491",
   "metadata": {},
   "outputs": [],
   "source": [
    "# code here"
   ]
  },
  {
   "cell_type": "markdown",
   "id": "9fbf00fb-2418-460f-ae94-2a32b0c28952",
   "metadata": {},
   "source": [
    "Time Series Analysis\n",
    "\n",
    "Analyzing trends in flight delays over time, such as identifying peak delay periods during different seasons or hours of the day.Time series analysis is essential for forecasting and understanding temporal trends. It would have been beneficial to learn techniques like decomposition or ARIMA modeling to predict future delays and uncover seasonality in datasets.\n",
    "\n",
    "Text Mining and Natural Language Processing (NLP)\n",
    "\n",
    "Analyzing customer reviews or airline feedback to identify common complaints or sentiments about delayed flights.\n",
    " With the increasing availability of unstructured text data, learning to preprocess and analyze textual information using libraries like tm or tidytext would have been valuable for real-world applications, such as sentiment analysis or keyword extraction.\n",
    "\n",
    "Advanced Statistical Modeling\n",
    "\n",
    "Using logistic regression or decision trees to predict the likelihood of a flight being delayed based on variables like weather, time of day, or airline.Advanced modeling techniques are foundational for machine learning and predictive analytics. Including these in our projects would have provided insights into building and evaluating predictive models, skills that are highly relevant in data science careers.\n"
   ]
  },
  {
   "cell_type": "markdown",
   "id": "f76442d6-d02e-4f26-b9d6-c3183e1d6929",
   "metadata": {},
   "source": [
    "## Pledge\n",
    "\n",
    "By submitting this work I hereby pledge that this is my own, personal work. I've acknowledged in the designated place at the top of this file all sources that I used to complete said work, including but not limited to: online resources, books, and electronic communications. I've noted all collaboration with fellow students and/or TA's. I did not copy or plagiarize another's work.\n",
    "\n",
    "> As a Boilermaker pursuing academic excellence, I pledge to be honest and true in all that I do. Accountable together – We are Purdue."
   ]
  }
 ],
 "metadata": {
  "kernelspec": {
   "display_name": "seminar",
   "language": "python",
   "name": "python3"
  },
  "language_info": {
   "codemirror_mode": {
    "name": "ipython",
    "version": 3
   },
   "file_extension": ".py",
   "mimetype": "text/x-python",
   "name": "python",
   "nbconvert_exporter": "python",
   "pygments_lexer": "ipython3",
   "version": "3.11.5"
  }
 },
 "nbformat": 4,
 "nbformat_minor": 5
}
